{
 "cells": [
  {
   "cell_type": "markdown",
   "id": "8e053b80",
   "metadata": {},
   "source": [
    "# Funciones Básicas de python-docx"
   ]
  },
  {
   "cell_type": "markdown",
   "id": "5b2ae014",
   "metadata": {},
   "source": [
    "**Creación de un Nuevo Documento:**\n",
    "\n",
    "Puedes crear un nuevo documento vacío utilizando la clase Document:"
   ]
  },
  {
   "cell_type": "raw",
   "id": "6ac7161a",
   "metadata": {},
   "source": [
    "from docx import Document\n",
    "\n",
    "doc = Document()  # Crea un nuevo documento en blanco"
   ]
  },
  {
   "cell_type": "markdown",
   "id": "ed4a9743",
   "metadata": {},
   "source": [
    "**Agregar un Párrafo de Texto:**\n",
    "\n",
    "Puedes agregar párrafos de texto al documento utilizando el método add_paragraph:"
   ]
  },
  {
   "cell_type": "markdown",
   "id": "c949450d",
   "metadata": {},
   "source": [
    "doc.add_paragraph('Este es un párrafo de ejemplo.')\n"
   ]
  },
  {
   "cell_type": "markdown",
   "id": "3cfd0215",
   "metadata": {},
   "source": [
    "**Agregar un Título o Encabezado:**\n",
    "\n",
    "Puedes agregar un título o encabezado utilizando el método add_heading:\n",
    "\n",
    "El argumento level especifica el nivel de encabezado (1 para el título principal, 2 para encabezados de primer nivel, etc.)."
   ]
  },
  {
   "cell_type": "raw",
   "id": "865724dc",
   "metadata": {},
   "source": [
    "doc.add_heading('Título del Documento', level=1)"
   ]
  },
  {
   "cell_type": "markdown",
   "id": "22ee49e2",
   "metadata": {},
   "source": [
    "**Agregar una Lista Numerada o Viñetas:**\n",
    "\n",
    "Puedes agregar listas numeradas o con viñetas utilizando el método add_paragraph y especificando un estilo:"
   ]
  },
  {
   "cell_type": "raw",
   "id": "716be875",
   "metadata": {},
   "source": [
    "doc.add_paragraph('Primer elemento de la lista', style='List Number')\n",
    "\n",
    "doc.add_paragraph('Segundo elemento de la lista', style='List Bullet')"
   ]
  },
  {
   "cell_type": "markdown",
   "id": "006a5bc2",
   "metadata": {},
   "source": [
    "**Agregar Tablas:**\n",
    "\n",
    "Puedes agregar tablas al documento utilizando el método add_table. Aquí hay un ejemplo de cómo agregar una tabla de 3x3:"
   ]
  },
  {
   "cell_type": "markdown",
   "id": "92848ad7",
   "metadata": {},
   "source": [
    "from docx.shared import Inches\n",
    "\n",
    "table = doc.add_table(rows=3, cols=3)\n",
    "for row in table.rows:\n",
    "    for cell in row.cells:\n",
    "        cell.text = 'Celda de ejemplo'\n"
   ]
  },
  {
   "cell_type": "markdown",
   "id": "1841b86e",
   "metadata": {},
   "source": [
    "**Guardar el Documento:**\n",
    "\n",
    "Puedes guardar el documento en un archivo utilizando el método save:"
   ]
  },
  {
   "cell_type": "raw",
   "id": "ba256fef",
   "metadata": {},
   "source": [
    "doc.save('mi_documento.docx')\n"
   ]
  },
  {
   "cell_type": "markdown",
   "id": "ed65a27b",
   "metadata": {},
   "source": [
    "**Leer un Documento Existente:**\n",
    "\n",
    "Para abrir y leer un documento existente, simplemente proporciona la ruta del archivo al constructor Document:"
   ]
  },
  {
   "cell_type": "raw",
   "id": "8414fa77",
   "metadata": {},
   "source": [
    "doc = Document('mi_documento.docx')\n"
   ]
  },
  {
   "cell_type": "markdown",
   "id": "d573bbf9",
   "metadata": {},
   "source": [
    "**Iterar a través de los Párrafos:**\n",
    "\n",
    "Puedes iterar a través de los párrafos de un documento y acceder a su contenido de la siguiente manera:"
   ]
  },
  {
   "cell_type": "raw",
   "id": "ba03cfd2",
   "metadata": {},
   "source": [
    "for paragraph in doc.paragraphs:\n",
    "    print(paragraph.text)"
   ]
  },
  {
   "cell_type": "code",
   "execution_count": null,
   "id": "60af6042",
   "metadata": {},
   "outputs": [],
   "source": []
  }
 ],
 "metadata": {
  "kernelspec": {
   "display_name": "Python 3 (ipykernel)",
   "language": "python",
   "name": "python3"
  },
  "language_info": {
   "codemirror_mode": {
    "name": "ipython",
    "version": 3
   },
   "file_extension": ".py",
   "mimetype": "text/x-python",
   "name": "python",
   "nbconvert_exporter": "python",
   "pygments_lexer": "ipython3",
   "version": "3.10.11"
  }
 },
 "nbformat": 4,
 "nbformat_minor": 5
}
