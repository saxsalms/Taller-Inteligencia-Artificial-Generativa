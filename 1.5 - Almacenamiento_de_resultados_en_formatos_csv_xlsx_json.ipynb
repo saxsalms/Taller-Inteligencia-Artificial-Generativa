{
 "cells": [
  {
   "cell_type": "markdown",
   "id": "b6dc4578",
   "metadata": {},
   "source": [
    "Importamos bibliotecas necesarias"
   ]
  },
  {
   "cell_type": "code",
   "execution_count": 1,
   "id": "2d387cc5",
   "metadata": {},
   "outputs": [],
   "source": [
    "import csv\n",
    "import json\n",
    "import pandas as pd\n",
    "from docx2python import docx2python"
   ]
  },
  {
   "cell_type": "markdown",
   "id": "7dc3ec34",
   "metadata": {},
   "source": [
    "Ruta al archivo DOCX que deseamos manipular"
   ]
  },
  {
   "cell_type": "code",
   "execution_count": 2,
   "id": "96e8b566",
   "metadata": {},
   "outputs": [],
   "source": [
    "archivo_docx = '../data/docxEjemplo1.docx'"
   ]
  },
  {
   "cell_type": "markdown",
   "id": "3727c391",
   "metadata": {},
   "source": [
    "Cargamos el archivo en formato .docx (word) que vamos a manipular con docx2python"
   ]
  },
  {
   "cell_type": "code",
   "execution_count": 3,
   "id": "a9720a40",
   "metadata": {},
   "outputs": [],
   "source": [
    "documento = docx2python(archivo_docx)"
   ]
  },
  {
   "cell_type": "markdown",
   "id": "67598c65",
   "metadata": {},
   "source": [
    "Accedemos al contenido de texto del documento"
   ]
  },
  {
   "cell_type": "code",
   "execution_count": 4,
   "id": "a3b932c5",
   "metadata": {},
   "outputs": [],
   "source": [
    "texto_completo = documento.text"
   ]
  },
  {
   "cell_type": "markdown",
   "id": "28897c4a",
   "metadata": {},
   "source": [
    "Guardamos el contenido en un archivo CSV"
   ]
  },
  {
   "cell_type": "code",
   "execution_count": 5,
   "id": "add7c207",
   "metadata": {},
   "outputs": [],
   "source": [
    "with open('../archivos_guardados/documento.csv', 'w', newline='', encoding='utf-8') as archivo_csv:\n",
    "    writer = csv.writer(archivo_csv)\n",
    "    writer.writerow(['Texto'])\n",
    "    writer.writerow([texto_completo])"
   ]
  },
  {
   "cell_type": "code",
   "execution_count": 6,
   "id": "260b1583",
   "metadata": {},
   "outputs": [
    {
     "name": "stdout",
     "output_type": "stream",
     "text": [
      "Documento guardado como 'documento.csv'\n"
     ]
    }
   ],
   "source": [
    "print(\"Documento guardado como 'documento.csv'\")"
   ]
  },
  {
   "cell_type": "markdown",
   "id": "17aab65c",
   "metadata": {},
   "source": [
    "Guardar el contenido en un archivo XLSX"
   ]
  },
  {
   "cell_type": "code",
   "execution_count": 7,
   "id": "c62709fc",
   "metadata": {},
   "outputs": [],
   "source": [
    "df = pd.DataFrame({'Texto': [texto_completo]})\n",
    "df.to_excel('../archivos_guardados/documento.xlsx', index=False)"
   ]
  },
  {
   "cell_type": "code",
   "execution_count": 8,
   "id": "a413aa5e",
   "metadata": {},
   "outputs": [
    {
     "name": "stdout",
     "output_type": "stream",
     "text": [
      "Documento guardado como 'documento.xlsx'\n"
     ]
    }
   ],
   "source": [
    "print(\"Documento guardado como 'documento.xlsx'\")"
   ]
  },
  {
   "cell_type": "markdown",
   "id": "0f7ef24d",
   "metadata": {},
   "source": [
    "Guardar el contenido en un archivo JSON"
   ]
  },
  {
   "cell_type": "code",
   "execution_count": 9,
   "id": "0c5ce0d9",
   "metadata": {},
   "outputs": [],
   "source": [
    "contenido_json = {'Texto': texto_completo}\n",
    "with open('../archivos_guardados/documento.json', 'w', encoding='utf-8') as archivo_json:\n",
    "    json.dump(contenido_json, archivo_json, ensure_ascii=False, indent=4)"
   ]
  },
  {
   "cell_type": "code",
   "execution_count": 10,
   "id": "89b0f444",
   "metadata": {},
   "outputs": [
    {
     "name": "stdout",
     "output_type": "stream",
     "text": [
      "Documento guardado como 'documento.json'\n"
     ]
    }
   ],
   "source": [
    "print(\"Documento guardado como 'documento.json'\")"
   ]
  },
  {
   "cell_type": "code",
   "execution_count": null,
   "id": "9baddfe4",
   "metadata": {},
   "outputs": [],
   "source": []
  }
 ],
 "metadata": {
  "kernelspec": {
   "display_name": "Python 3 (ipykernel)",
   "language": "python",
   "name": "python3"
  },
  "language_info": {
   "codemirror_mode": {
    "name": "ipython",
    "version": 3
   },
   "file_extension": ".py",
   "mimetype": "text/x-python",
   "name": "python",
   "nbconvert_exporter": "python",
   "pygments_lexer": "ipython3",
   "version": "3.10.11"
  }
 },
 "nbformat": 4,
 "nbformat_minor": 5
}
