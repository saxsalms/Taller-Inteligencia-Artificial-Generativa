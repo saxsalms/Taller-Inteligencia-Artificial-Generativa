{
 "cells": [
  {
   "cell_type": "markdown",
   "id": "997d2ed9",
   "metadata": {},
   "source": [
    "Cargamos las bibliotecas necesarias "
   ]
  },
  {
   "cell_type": "code",
   "execution_count": 1,
   "id": "c3226013",
   "metadata": {},
   "outputs": [],
   "source": [
    "import os\n",
    "import docx2txt"
   ]
  },
  {
   "cell_type": "markdown",
   "id": "045fabf1",
   "metadata": {},
   "source": [
    "Podemos la ruta al archivo DOCX que deseamos manipular"
   ]
  },
  {
   "cell_type": "code",
   "execution_count": 2,
   "id": "81de8de4",
   "metadata": {},
   "outputs": [],
   "source": [
    "archivo_docx = '../data/texto_Prueba_alicia.docx'"
   ]
  },
  {
   "cell_type": "markdown",
   "id": "cfb42e6f",
   "metadata": {},
   "source": [
    "Creamos la carpeta donde se guardaran las imagenes extraidas"
   ]
  },
  {
   "cell_type": "code",
   "execution_count": 3,
   "id": "8ccf9d6c",
   "metadata": {},
   "outputs": [],
   "source": [
    "carpeta_imagenes = '../imagenes_extraidas'\n",
    "os.makedirs(carpeta_imagenes, exist_ok=True)"
   ]
  },
  {
   "cell_type": "markdown",
   "id": "b021134c",
   "metadata": {},
   "source": [
    "Extraemos imagenes del archivo docx y mostramos el texto del documento"
   ]
  },
  {
   "cell_type": "code",
   "execution_count": 4,
   "id": "f668b2da",
   "metadata": {},
   "outputs": [
    {
     "data": {
      "text/plain": [
       "\"Alicia en el País de las Maravillas \\n\\n\\n\\nDatos\\n\\n\\n\\nMcGee-Wonderland\\n\\nMapa del País de las Maravillas en American McGee's Alice.\\n\\n\\n\\nEl País de las Maravillas es un curioso lugar hallado mágicamente bajo tierra. Este mundo está gobernado por cuatro reyes, el Rey de Corazones, el Rey de Picas, el Rey de Diamantes y el Rey de Tréboles, y por cuatro reinas, la Reina de Corazones, la Reina de Picas, la Reina de Diamantes y la Reina de Tréboles. Sin embargo, los Reyes de Corazones son los que más aparecen y aparentemente los que más gobiernan sobre el mundo.\\n\\n\\n\\nAlicia descubre después de caer por la madriguera del Conejo Blanco en la novela de Lewis Carroll, Las aventuras de Alicia en el país de las maravillas. Los habitantes están todos locos, de acuerdo con el Gato de Cheshire, y Alicia se reúne el Sombrerero Loco, el Conejo Blanco, el Dodo, la Reina de Corazones, la Liebre de Marzo, y muchos otros a lo largo de sus aventuras allí.\\n\\n\\n\\nEn la novela de Carroll, el País de las Maravillas incluye un hermoso jardín, un océano, y un bosque. Aunque los personajes inusuales y acontecimientos inesperados del País las Maravillas a veces dejan perpleja a Alicia, a menudo se complace en su entorno.\\n\\n\\n\\nWonderlandMap\\n\\nEl País de las Maravillas en el juego de rol Wonderland no more\\n\\n\\n\\nCaracterísticas en adaptaciones\\n\\ndesde 1890 se escribió le cuento de Alicia Algunas adaptaciones tienen características propias, un ejemplo es la adaptación de Disney, donde en Tulgey Wood se presentan más animales bastante curiosos que los que aparecían en el libro y que además, trabajaban según su aspecto.\\n\\n\\n\\nOtra característica de dicha adaptación son los cambios de escenario, cuando Alicia lloraba en Tulgey Wood, los animales y el bosque desaparecían en la oscuridad, mientras que el verde jardín de la Reina de Corazones, comienza a tener colores grisáceos.\\n\\n\\n\\nEn la adaptación de Rankin/Bass, cuando el Sombrerero, la Liebre de Marzo y el Lirón interrumpen su merienda para acompañar a Alicia, pasan por algunos escenarios que funcionan al revés, un ejemplo es una cascada que suben desde abajo con una pequeña balsa como si fuera un simple río, pero dicha cascada subía el río, no lo hacía caer. Otro ejemplo es un territorio en el que, a pesar de que el cielo y la tierra estuviesen en su sitio, los árboles colgaban de arriba, y los pájaros volaba cerca del suelo boca abajo.\\n\\n\\n\\nMadnessReturns-NormalWonderland\\n\\nEl País de las Maravillas antes del desastre en Alice: Madness Returns.\\n\\n\\n\\nEn American McGee's Alice, debido a la torturada mente de Alice, el País de las Maravillas cambia radicalmente de forma siniestra. El país entero parece estar rodeado de los tentáculos más gigantes de la Reina Roja, mientras que puede visitarse una curiosa escuela que parece balancearse. Por otra parte, en Alice: Madness Returns vuelve a ser corrompido por culpa del Tren Infernal conducido por el Juguetero y por culpa de las corrupciones de la mente de Alice por parte del Doctor Bumby, ya que la destrucción de Alice es la destrucción del País de las Maravillas. En dicho juego, pueden verse tierras sobre el aire formadas por naipes gigantes, plataformas con forma de fichas de dominó entre otras cosas curiosas.\\n\\n\\n\\nEn Kingdom Hearts, el mundo de Disney es el que aparece en esta saga, pero se incluye la capacidad de poder visitar la casa misteriosa desde distintos ángulos. Al entrar por distintas entradas del bosque de lotos o del jardín del té, se puede aparecer en la casa misteriosa caminando por la pared o por el techo como si del propio suelo de tratara.\""
      ]
     },
     "execution_count": 4,
     "metadata": {},
     "output_type": "execute_result"
    }
   ],
   "source": [
    "docx2txt.process(archivo_docx, carpeta_imagenes)"
   ]
  },
  {
   "cell_type": "markdown",
   "id": "b6557208",
   "metadata": {},
   "source": [
    "Listamos archivos de la carpeta imagenes"
   ]
  },
  {
   "cell_type": "code",
   "execution_count": 5,
   "id": "65e6da2d",
   "metadata": {},
   "outputs": [],
   "source": [
    "imagenes = os.listdir(carpeta_imagenes)"
   ]
  },
  {
   "cell_type": "markdown",
   "id": "47ad54db",
   "metadata": {},
   "source": [
    "Recorremos el docx para enumerar y guardar imagenes"
   ]
  },
  {
   "cell_type": "code",
   "execution_count": 6,
   "id": "d4feaca5",
   "metadata": {},
   "outputs": [
    {
     "name": "stdout",
     "output_type": "stream",
     "text": [
      "Imagen 1: image1.png\n",
      "Imagen 2: image2.png\n",
      "Imagen 3: image2_y.png\n",
      "Imagen 4: image1_x.png\n"
     ]
    }
   ],
   "source": [
    "for i, imagen in enumerate(imagenes, start=1):\n",
    "    print(f'Imagen {i}: {imagen}')"
   ]
  },
  {
   "cell_type": "code",
   "execution_count": null,
   "id": "1f152a18",
   "metadata": {},
   "outputs": [],
   "source": []
  },
  {
   "cell_type": "code",
   "execution_count": null,
   "id": "791a757f",
   "metadata": {},
   "outputs": [],
   "source": []
  }
 ],
 "metadata": {
  "kernelspec": {
   "display_name": "Python 3 (ipykernel)",
   "language": "python",
   "name": "python3"
  },
  "language_info": {
   "codemirror_mode": {
    "name": "ipython",
    "version": 3
   },
   "file_extension": ".py",
   "mimetype": "text/x-python",
   "name": "python",
   "nbconvert_exporter": "python",
   "pygments_lexer": "ipython3",
   "version": "3.10.11"
  }
 },
 "nbformat": 4,
 "nbformat_minor": 5
}
