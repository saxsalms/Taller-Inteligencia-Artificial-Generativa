{
 "cells": [
  {
   "cell_type": "markdown",
   "id": "f3dbbd57",
   "metadata": {},
   "source": [
    "# Almacenamiento de estructuras de hojas de calculo en diferentes formatos"
   ]
  },
  {
   "cell_type": "markdown",
   "id": "797a5efa",
   "metadata": {},
   "source": [
    "En este cuaderno se muestran ejemplos cortos para guardar tablas extraidas en diferentes formatos"
   ]
  },
  {
   "cell_type": "code",
   "execution_count": 1,
   "id": "7d4715e1",
   "metadata": {},
   "outputs": [],
   "source": [
    "import openpyxl\n",
    "import csv\n",
    "import json\n",
    "import os"
   ]
  },
  {
   "cell_type": "code",
   "execution_count": 2,
   "id": "8ec5f0a4",
   "metadata": {},
   "outputs": [],
   "source": [
    "tabla_datos = [\n",
    "    [\"Nombre\", \"Edad\", \"Ciudad\"],\n",
    "    [\"Juan\", 30, \"Madrid\"],\n",
    "    [\"María\", 25, \"Barcelona\"],\n",
    "    [\"Carlos\", 35, \"Sevilla\"],\n",
    "]"
   ]
  },
  {
   "cell_type": "code",
   "execution_count": 6,
   "id": "c356a6ee",
   "metadata": {},
   "outputs": [],
   "source": [
    "carpeta_guardado = '../tablas/'"
   ]
  },
  {
   "cell_type": "code",
   "execution_count": 7,
   "id": "f07856c8",
   "metadata": {},
   "outputs": [],
   "source": [
    "if not os.path.exists(carpeta_guardado):\n",
    "    os.makedirs(carpeta_guardado)"
   ]
  },
  {
   "cell_type": "markdown",
   "id": "49d819f1",
   "metadata": {},
   "source": [
    "### Formato XLSX (Excel)"
   ]
  },
  {
   "cell_type": "code",
   "execution_count": 8,
   "id": "365f9a1c",
   "metadata": {},
   "outputs": [],
   "source": [
    "ruta_xlsx = os.path.join(carpeta_guardado, 'tabla_datos.xlsx')\n",
    "workbook = openpyxl.Workbook()\n",
    "hoja = workbook.active\n",
    "for fila in tabla_datos:\n",
    "    hoja.append(fila)\n",
    "workbook.save(ruta_xlsx)"
   ]
  },
  {
   "cell_type": "markdown",
   "id": "9a8059e6",
   "metadata": {},
   "source": [
    "### Formato CSV"
   ]
  },
  {
   "cell_type": "code",
   "execution_count": 10,
   "id": "0d769dfc",
   "metadata": {},
   "outputs": [],
   "source": [
    "ruta_csv = os.path.join(carpeta_guardado, 'tabla_datos.csv')\n",
    "with open(ruta_csv, mode='w', newline='') as archivo_csv:\n",
    "    escritor_csv = csv.writer(archivo_csv)\n",
    "    escritor_csv.writerows(tabla_datos)"
   ]
  },
  {
   "cell_type": "markdown",
   "id": "c3e565ef",
   "metadata": {},
   "source": [
    "### Formato JSON"
   ]
  },
  {
   "cell_type": "code",
   "execution_count": 11,
   "id": "1ca7542f",
   "metadata": {},
   "outputs": [],
   "source": [
    "ruta_json = os.path.join(carpeta_guardado, 'tabla_datos.json')\n",
    "with open(ruta_json, 'w') as archivo_json:\n",
    "    json.dump(tabla_datos, archivo_json)"
   ]
  },
  {
   "cell_type": "code",
   "execution_count": null,
   "id": "17d22e46",
   "metadata": {},
   "outputs": [],
   "source": []
  }
 ],
 "metadata": {
  "kernelspec": {
   "display_name": "Python 3 (ipykernel)",
   "language": "python",
   "name": "python3"
  },
  "language_info": {
   "codemirror_mode": {
    "name": "ipython",
    "version": 3
   },
   "file_extension": ".py",
   "mimetype": "text/x-python",
   "name": "python",
   "nbconvert_exporter": "python",
   "pygments_lexer": "ipython3",
   "version": "3.10.11"
  }
 },
 "nbformat": 4,
 "nbformat_minor": 5
}
