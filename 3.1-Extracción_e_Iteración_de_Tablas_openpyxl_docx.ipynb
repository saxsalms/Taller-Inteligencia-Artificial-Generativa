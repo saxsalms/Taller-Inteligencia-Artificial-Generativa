{
 "cells": [
  {
   "cell_type": "markdown",
   "id": "3a28a4d1",
   "metadata": {},
   "source": [
    "# Extracción e Iteración de Tablas"
   ]
  },
  {
   "cell_type": "markdown",
   "id": "103d759e",
   "metadata": {},
   "source": [
    "Importamos las bibliotecas necesarias "
   ]
  },
  {
   "cell_type": "code",
   "execution_count": 1,
   "id": "3732be8a",
   "metadata": {},
   "outputs": [],
   "source": [
    "import openpyxl\n",
    "from docx import Document\n",
    "import os"
   ]
  },
  {
   "cell_type": "markdown",
   "id": "ac0eb963",
   "metadata": {},
   "source": [
    "Asignamos la ruta del archivo que queremos usar a una variable"
   ]
  },
  {
   "cell_type": "code",
   "execution_count": 2,
   "id": "c6a9635e",
   "metadata": {},
   "outputs": [],
   "source": [
    "archivo_docx = '../data/INFORME_DE_CENTROS_DE_ASISTENCIA_SOCIAL_ENERO-JUNIO_2023.docx'"
   ]
  },
  {
   "cell_type": "markdown",
   "id": "da5943b8",
   "metadata": {},
   "source": [
    "Cargamos el documento"
   ]
  },
  {
   "cell_type": "code",
   "execution_count": 3,
   "id": "2d956e7a",
   "metadata": {},
   "outputs": [],
   "source": [
    "documento = Document(archivo_docx)"
   ]
  },
  {
   "cell_type": "markdown",
   "id": "e22f35ac",
   "metadata": {},
   "source": [
    "Asignamos directorio a una variable"
   ]
  },
  {
   "cell_type": "code",
   "execution_count": 4,
   "id": "ce0462e8",
   "metadata": {},
   "outputs": [],
   "source": [
    "directorio_destino = '../tablas/'"
   ]
  },
  {
   "cell_type": "markdown",
   "id": "25cce7f1",
   "metadata": {},
   "source": [
    "Si el directorio no existe, lo creamos"
   ]
  },
  {
   "cell_type": "code",
   "execution_count": 5,
   "id": "9cd7b73b",
   "metadata": {},
   "outputs": [],
   "source": [
    "if not os.path.exists(directorio_destino):\n",
    "    os.makedirs(directorio_destino)"
   ]
  },
  {
   "cell_type": "markdown",
   "id": "c62920bd",
   "metadata": {},
   "source": [
    "Recoremos el archivo docx para extraer y guardar las tablas por separado "
   ]
  },
  {
   "cell_type": "code",
   "execution_count": 6,
   "id": "9ff64866",
   "metadata": {},
   "outputs": [
    {
     "name": "stdout",
     "output_type": "stream",
     "text": [
      "Tabla 1 guardada como ../tablas/tabla_1.xlsx\n",
      "Tabla 2 guardada como ../tablas/tabla_2.xlsx\n"
     ]
    }
   ],
   "source": [
    "for tabla_numero, tabla in enumerate(documento.tables, start=1):\n",
    "    # Crear un nuevo archivo XLSX para cada tabla\n",
    "    nombre_archivo_xlsx = os.path.join(directorio_destino, f'tabla_{tabla_numero}.xlsx')\n",
    "    libro_trabajo = openpyxl.Workbook()\n",
    "    hoja = libro_trabajo.active\n",
    "\n",
    "    # Iterar a través de las filas y columnas de la tabla y escribir los datos en el archivo XLSX\n",
    "    for fila in tabla.rows:\n",
    "        fila_datos = [celda.text for celda in fila.cells]  # Acceder a las celdas de la fila\n",
    "        hoja.append(fila_datos)\n",
    "\n",
    "    # Guardar el archivo XLSX en el directorio de destino especificado\n",
    "    libro_trabajo.save(nombre_archivo_xlsx)\n",
    "    print(f'Tabla {tabla_numero} guardada como {nombre_archivo_xlsx}')\n"
   ]
  },
  {
   "cell_type": "code",
   "execution_count": null,
   "id": "eb4cdb28",
   "metadata": {},
   "outputs": [],
   "source": []
  }
 ],
 "metadata": {
  "kernelspec": {
   "display_name": "Python 3 (ipykernel)",
   "language": "python",
   "name": "python3"
  },
  "language_info": {
   "codemirror_mode": {
    "name": "ipython",
    "version": 3
   },
   "file_extension": ".py",
   "mimetype": "text/x-python",
   "name": "python",
   "nbconvert_exporter": "python",
   "pygments_lexer": "ipython3",
   "version": "3.10.11"
  }
 },
 "nbformat": 4,
 "nbformat_minor": 5
}
