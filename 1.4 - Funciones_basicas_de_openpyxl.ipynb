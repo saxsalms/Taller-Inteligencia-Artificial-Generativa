{
 "cells": [
  {
   "cell_type": "markdown",
   "id": "70779cef",
   "metadata": {},
   "source": [
    "# Funciones Básicas de Openpyxl"
   ]
  },
  {
   "cell_type": "markdown",
   "id": "46259ed7",
   "metadata": {},
   "source": [
    "Abrir un Archivo de Excel:"
   ]
  },
  {
   "cell_type": "raw",
   "id": "9f4fb6f2",
   "metadata": {},
   "source": [
    "import openpyxl\n",
    "\n",
    "# Abre un archivo de Excel existente\n",
    "workbook = openpyxl.load_workbook('archivo.xlsx')\n"
   ]
  },
  {
   "cell_type": "markdown",
   "id": "c2212ec9",
   "metadata": {},
   "source": [
    "Acceder a una Hoja de Cálculo:"
   ]
  },
  {
   "cell_type": "raw",
   "id": "ba7fe877",
   "metadata": {},
   "source": [
    "# Accede a una hoja de cálculo específica por nombre\n",
    "sheet = workbook['Hoja1']\n",
    "\n",
    "# También puedes acceder a la hoja de cálculo por índice\n",
    "sheet = workbook.worksheets[0]\n"
   ]
  },
  {
   "cell_type": "markdown",
   "id": "78d0fdbf",
   "metadata": {},
   "source": [
    "Leer Datos de una Celda:"
   ]
  },
  {
   "cell_type": "raw",
   "id": "8e8b3aad",
   "metadata": {},
   "source": [
    "# Lee el valor de una celda específica\n",
    "valor = sheet['A1'].value\n"
   ]
  },
  {
   "cell_type": "markdown",
   "id": "b3584715",
   "metadata": {},
   "source": [
    "Escribir Datos en una Celda:"
   ]
  },
  {
   "cell_type": "raw",
   "id": "f17a243b",
   "metadata": {},
   "source": [
    "# Escribe un valor en una celda específica\n",
    "sheet['B2'] = 'Nuevo Valor'\n"
   ]
  },
  {
   "cell_type": "markdown",
   "id": "a8567198",
   "metadata": {},
   "source": [
    "Iterar sobre Filas y Columnas:"
   ]
  },
  {
   "cell_type": "raw",
   "id": "1932c528",
   "metadata": {},
   "source": [
    "# Itera sobre filas en una hoja de cálculo\n",
    "for fila in sheet.iter_rows(min_row=1, max_row=10, min_col=1, max_col=5):\n",
    "    for celda in fila:\n",
    "        print(celda.value)\n",
    "\n",
    "# Itera sobre columnas en una hoja de cálculo\n",
    "for columna in sheet.iter_cols(min_row=1, max_row=10, min_col=1, max_col=5):\n",
    "    for celda in columna:\n",
    "        print(celda.value)\n"
   ]
  },
  {
   "cell_type": "markdown",
   "id": "9f656b61",
   "metadata": {},
   "source": [
    "Guardar Cambios en el Archivo:"
   ]
  },
  {
   "cell_type": "raw",
   "id": "d6300ddf",
   "metadata": {},
   "source": [
    "# Guarda los cambios en el archivo de Excel\n",
    "workbook.save('archivo_modificado.xlsx')\n"
   ]
  },
  {
   "cell_type": "markdown",
   "id": "b5c2d33d",
   "metadata": {},
   "source": [
    "Agregar Filas o Columnas:"
   ]
  },
  {
   "cell_type": "raw",
   "id": "17c5f92a",
   "metadata": {},
   "source": [
    "# Agrega una fila de datos\n",
    "sheet.append(['Nuevo Dato 1', 'Nuevo Dato 2', 'Nuevo Dato 3'])\n",
    "\n",
    "# Agrega una columna de datos\n",
    "for i in range(1, 6):\n",
    "    sheet.cell(row=i, column=6, value='Nuevo Valor')\n"
   ]
  },
  {
   "cell_type": "markdown",
   "id": "cfe3860e",
   "metadata": {},
   "source": [
    "Eliminar Filas o Columnas:"
   ]
  },
  {
   "cell_type": "raw",
   "id": "7118e789",
   "metadata": {},
   "source": [
    "# Elimina una fila por número de fila\n",
    "sheet.delete_rows(5)\n",
    "\n",
    "# Elimina una columna por número de columna\n",
    "sheet.delete_cols(2)\n"
   ]
  },
  {
   "cell_type": "markdown",
   "id": "af14b230",
   "metadata": {},
   "source": [
    "Obtener Rangos de Celdas:"
   ]
  },
  {
   "cell_type": "raw",
   "id": "2bbbe17d",
   "metadata": {},
   "source": [
    "# Obtiene un rango de celdas (por ejemplo, A1 a C3)\n",
    "rango = sheet['A1:C3']\n",
    "\n",
    "# También puedes usar la función cell para obtener una celda específica\n",
    "celda = sheet.cell(row=1, column=1)\n"
   ]
  }
 ],
 "metadata": {
  "kernelspec": {
   "display_name": "Python 3 (ipykernel)",
   "language": "python",
   "name": "python3"
  },
  "language_info": {
   "codemirror_mode": {
    "name": "ipython",
    "version": 3
   },
   "file_extension": ".py",
   "mimetype": "text/x-python",
   "name": "python",
   "nbconvert_exporter": "python",
   "pygments_lexer": "ipython3",
   "version": "3.10.11"
  }
 },
 "nbformat": 4,
 "nbformat_minor": 5
}
