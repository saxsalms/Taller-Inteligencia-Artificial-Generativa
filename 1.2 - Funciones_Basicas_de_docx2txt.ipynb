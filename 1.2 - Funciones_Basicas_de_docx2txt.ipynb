{
 "cells": [
  {
   "cell_type": "markdown",
   "id": "0dc80d2c",
   "metadata": {},
   "source": [
    "# Funciones Básicas de docx2txt"
   ]
  },
  {
   "cell_type": "markdown",
   "id": "2ed2e2bf",
   "metadata": {},
   "source": [
    "La biblioteca docx2txt en Python proporciona funciones básicas para extraer texto de archivos DOCX. Las funciones principales son:\n"
   ]
  },
  {
   "cell_type": "markdown",
   "id": "e53914e5",
   "metadata": {},
   "source": [
    "**process(docx_file, txt_file=None):** Esta función se utiliza para procesar un archivo DOCX y extraer su contenido de texto. Los parámetros son los siguientes:\n",
    "\n",
    "**docx_file:** La ruta al archivo DOCX que se desea procesar.\n",
    "\n",
    "**txt_file (opcional):** La ruta al archivo de texto en el que se almacenará el contenido extraído. Si no se proporciona, el contenido se imprimirá por pantalla.\n",
    "\n",
    "**Ejemplo de uso:**"
   ]
  },
  {
   "cell_type": "raw",
   "id": "591ae4fe",
   "metadata": {},
   "source": [
    "import docx2txt\n",
    "\n",
    "# Procesa un archivo DOCX y almacena el contenido en un archivo de texto.\n",
    "docx2txt.process(\"mi_documento.docx\", \"contenido_extraido.txt\")\n"
   ]
  },
  {
   "cell_type": "markdown",
   "id": "353c0e6f",
   "metadata": {},
   "source": [
    "**process_batch(directory, dest_path=None):** Esta función permite procesar todos los archivos DOCX en un directorio y almacenar su contenido en un solo archivo de texto o imprimirlo por pantalla. Los parámetros son:\n",
    "\n",
    "**directory:** La ruta al directorio que contiene los archivos DOCX a procesar.\n",
    "\n",
    "**dest_path (opcional):** La ruta al archivo de texto en el que se almacenará el contenido extraído de todos los archivos. Si no se proporciona, el contenido se imprimirá por pantalla.\n",
    "\n",
    "**Ejemplo de uso:**"
   ]
  },
  {
   "cell_type": "raw",
   "id": "4f747b49",
   "metadata": {},
   "source": [
    "import docx2txt\n",
    "\n",
    "# Procesa todos los archivos DOCX en un directorio y almacena el contenido en un archivo de texto.\n",
    "docx2txt.process_batch(\"directorio_con_documentos\", \"contenido_extraido.txt\")\n"
   ]
  },
  {
   "cell_type": "markdown",
   "id": "b9833a88",
   "metadata": {},
   "source": [
    "**process_zip(zip_file):** Esta función se utiliza para extraer el contenido de texto de archivos DOCX que están dentro de un archivo ZIP. Los parámetros son:\n",
    "\n",
    "**zip_file:** La ruta al archivo ZIP que contiene los archivos DOCX.\n",
    "\n",
    "**Ejemplo de uso:**"
   ]
  },
  {
   "cell_type": "raw",
   "id": "03ec3416",
   "metadata": {},
   "source": [
    "import docx2txt\n",
    "\n",
    "# Procesa un archivo ZIP que contiene archivos DOCX y extrae su contenido de texto.\n",
    "docx2txt.process_zip(\"archivo.zip\")\n"
   ]
  },
  {
   "cell_type": "code",
   "execution_count": null,
   "id": "e7b917ba",
   "metadata": {},
   "outputs": [],
   "source": []
  }
 ],
 "metadata": {
  "kernelspec": {
   "display_name": "Python 3 (ipykernel)",
   "language": "python",
   "name": "python3"
  },
  "language_info": {
   "codemirror_mode": {
    "name": "ipython",
    "version": 3
   },
   "file_extension": ".py",
   "mimetype": "text/x-python",
   "name": "python",
   "nbconvert_exporter": "python",
   "pygments_lexer": "ipython3",
   "version": "3.10.11"
  }
 },
 "nbformat": 4,
 "nbformat_minor": 5
}
