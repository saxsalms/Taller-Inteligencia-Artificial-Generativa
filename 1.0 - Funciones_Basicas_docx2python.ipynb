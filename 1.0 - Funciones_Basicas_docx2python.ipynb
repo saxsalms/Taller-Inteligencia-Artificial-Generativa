{
 "cells": [
  {
   "cell_type": "markdown",
   "id": "a10965f5",
   "metadata": {},
   "source": [
    "# Funciones Básicas de docx2python "
   ]
  },
  {
   "cell_type": "markdown",
   "id": "dd1cc73e",
   "metadata": {},
   "source": [
    "**docx2python(docx_file_path):** Esta función principal de la biblioteca se utiliza para cargar un archivo DOCX en un objeto Python que contiene la estructura del documento. Aquí tienes un ejemplo de cómo se usa:"
   ]
  },
  {
   "cell_type": "raw",
   "id": "04c98495",
   "metadata": {},
   "source": [
    "from docx2python import docx2python\n",
    "\n",
    "documento = docx2python(\"archivo.docx\")\n"
   ]
  },
  {
   "cell_type": "markdown",
   "id": "5529c12a",
   "metadata": {},
   "source": [
    "**.text:** Una vez que has cargado el documento con \"docx2python\", puedes acceder al contenido de texto del documento utilizando el atributo .text. Esto te proporcionará el contenido del documento en forma de una cadena de texto."
   ]
  },
  {
   "cell_type": "raw",
   "id": "5a68d0e6",
   "metadata": {},
   "source": [
    "texto_completo = documento.text"
   ]
  },
  {
   "cell_type": "markdown",
   "id": "5c35082e",
   "metadata": {},
   "source": [
    "**.tables:** Si el documento contiene tablas, puedes acceder a ellas utilizando el atributo .tables. Esto devuelve una lista de tablas presentes en el documento."
   ]
  },
  {
   "cell_type": "raw",
   "id": "36ff1ee8",
   "metadata": {},
   "source": [
    "tablas = documento.tables"
   ]
  },
  {
   "cell_type": "markdown",
   "id": "e5cfa52b",
   "metadata": {},
   "source": [
    "**.images:** Si el documento incluye imágenes, puedes acceder a ellas mediante el atributo .images. Esto devuelve una lista de imágenes presentes en el documento."
   ]
  },
  {
   "cell_type": "raw",
   "id": "2d266c8f",
   "metadata": {},
   "source": [
    "imagenes = documento.images"
   ]
  },
  {
   "cell_type": "markdown",
   "id": "9dd33cf0",
   "metadata": {},
   "source": [
    "**.html:** Para obtener una versión del documento en formato HTML, puedes utilizar el atributo .html. Esto convierte el contenido del documento en un fragmento de HTML."
   ]
  },
  {
   "cell_type": "markdown",
   "id": "cb9d0084",
   "metadata": {},
   "source": [
    "contenido_html = documento.html"
   ]
  },
  {
   "cell_type": "markdown",
   "id": "ee800f5d",
   "metadata": {},
   "source": [
    "**.xml:** Si necesitas trabajar con el documento en formato XML, puedes acceder a la representación XML del documento utilizando el atributo .xml."
   ]
  },
  {
   "cell_type": "markdown",
   "id": "3d0a1884",
   "metadata": {},
   "source": [
    "contenido_xml = documento.xml"
   ]
  },
  {
   "cell_type": "code",
   "execution_count": null,
   "id": "1ca4206c",
   "metadata": {},
   "outputs": [],
   "source": []
  }
 ],
 "metadata": {
  "kernelspec": {
   "display_name": "Python 3 (ipykernel)",
   "language": "python",
   "name": "python3"
  },
  "language_info": {
   "codemirror_mode": {
    "name": "ipython",
    "version": 3
   },
   "file_extension": ".py",
   "mimetype": "text/x-python",
   "name": "python",
   "nbconvert_exporter": "python",
   "pygments_lexer": "ipython3",
   "version": "3.10.11"
  }
 },
 "nbformat": 4,
 "nbformat_minor": 5
}
